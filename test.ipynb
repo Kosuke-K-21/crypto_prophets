{
 "cells": [
  {
   "cell_type": "code",
   "execution_count": 3,
   "metadata": {},
   "outputs": [],
   "source": [
    "import pandas as pd\n",
    "import matplotlib.pyplot as plt"
   ]
  },
  {
   "cell_type": "code",
   "execution_count": 4,
   "metadata": {},
   "outputs": [],
   "source": [
    "df = pd.read_csv('/Users/kosukekonno/Documents/Projects/crypto_prophet/frontend/data.csv', index_col=0)"
   ]
  },
  {
   "cell_type": "code",
   "execution_count": 7,
   "metadata": {},
   "outputs": [
    {
     "data": {
      "text/html": [
       "<div>\n",
       "<style scoped>\n",
       "    .dataframe tbody tr th:only-of-type {\n",
       "        vertical-align: middle;\n",
       "    }\n",
       "\n",
       "    .dataframe tbody tr th {\n",
       "        vertical-align: top;\n",
       "    }\n",
       "\n",
       "    .dataframe thead th {\n",
       "        text-align: right;\n",
       "    }\n",
       "</style>\n",
       "<table border=\"1\" class=\"dataframe\">\n",
       "  <thead>\n",
       "    <tr style=\"text-align: right;\">\n",
       "      <th></th>\n",
       "      <th>BTC</th>\n",
       "      <th>ETH</th>\n",
       "      <th>USDT</th>\n",
       "      <th>BNB</th>\n",
       "      <th>USDC</th>\n",
       "      <th>XRP</th>\n",
       "      <th>HEX</th>\n",
       "    </tr>\n",
       "  </thead>\n",
       "  <tbody>\n",
       "    <tr>\n",
       "      <th>2019-12-17</th>\n",
       "      <td>6640.515137</td>\n",
       "      <td>122.603889</td>\n",
       "      <td>0.993339</td>\n",
       "      <td>12.386941</td>\n",
       "      <td>0.998726</td>\n",
       "      <td>0.183699</td>\n",
       "      <td>0.000171</td>\n",
       "    </tr>\n",
       "    <tr>\n",
       "      <th>2019-12-18</th>\n",
       "      <td>7276.802734</td>\n",
       "      <td>133.092194</td>\n",
       "      <td>1.006128</td>\n",
       "      <td>13.535260</td>\n",
       "      <td>1.009051</td>\n",
       "      <td>0.196176</td>\n",
       "      <td>0.000265</td>\n",
       "    </tr>\n",
       "    <tr>\n",
       "      <th>2019-12-19</th>\n",
       "      <td>7202.844238</td>\n",
       "      <td>129.321136</td>\n",
       "      <td>1.008569</td>\n",
       "      <td>13.445779</td>\n",
       "      <td>1.009815</td>\n",
       "      <td>0.190819</td>\n",
       "      <td>0.000256</td>\n",
       "    </tr>\n",
       "    <tr>\n",
       "      <th>2019-12-20</th>\n",
       "      <td>7218.816406</td>\n",
       "      <td>129.066055</td>\n",
       "      <td>1.005842</td>\n",
       "      <td>13.570779</td>\n",
       "      <td>1.005709</td>\n",
       "      <td>0.195316</td>\n",
       "      <td>0.000129</td>\n",
       "    </tr>\n",
       "    <tr>\n",
       "      <th>2019-12-21</th>\n",
       "      <td>7191.158691</td>\n",
       "      <td>128.130951</td>\n",
       "      <td>1.005758</td>\n",
       "      <td>13.380659</td>\n",
       "      <td>1.007746</td>\n",
       "      <td>0.194082</td>\n",
       "      <td>0.000218</td>\n",
       "    </tr>\n",
       "  </tbody>\n",
       "</table>\n",
       "</div>"
      ],
      "text/plain": [
       "                    BTC         ETH      USDT        BNB      USDC       XRP  \\\n",
       "2019-12-17  6640.515137  122.603889  0.993339  12.386941  0.998726  0.183699   \n",
       "2019-12-18  7276.802734  133.092194  1.006128  13.535260  1.009051  0.196176   \n",
       "2019-12-19  7202.844238  129.321136  1.008569  13.445779  1.009815  0.190819   \n",
       "2019-12-20  7218.816406  129.066055  1.005842  13.570779  1.005709  0.195316   \n",
       "2019-12-21  7191.158691  128.130951  1.005758  13.380659  1.007746  0.194082   \n",
       "\n",
       "                 HEX  \n",
       "2019-12-17  0.000171  \n",
       "2019-12-18  0.000265  \n",
       "2019-12-19  0.000256  \n",
       "2019-12-20  0.000129  \n",
       "2019-12-21  0.000218  "
      ]
     },
     "execution_count": 7,
     "metadata": {},
     "output_type": "execute_result"
    }
   ],
   "source": [
    "df.head()"
   ]
  },
  {
   "cell_type": "code",
   "execution_count": 9,
   "metadata": {},
   "outputs": [
    {
     "data": {
      "text/plain": [
       "'BTC'"
      ]
     },
     "execution_count": 9,
     "metadata": {},
     "output_type": "execute_result"
    }
   ],
   "source": [
    "df.columns[0]"
   ]
  },
  {
   "cell_type": "code",
   "execution_count": 5,
   "metadata": {},
   "outputs": [],
   "source": [
    "df.reset_index(names='Date', inplace=True)"
   ]
  },
  {
   "cell_type": "code",
   "execution_count": 6,
   "metadata": {},
   "outputs": [
    {
     "name": "stdout",
     "output_type": "stream",
     "text": [
      "<class 'pandas.core.frame.DataFrame'>\n",
      "RangeIndex: 1176 entries, 0 to 1175\n",
      "Data columns (total 8 columns):\n",
      " #   Column  Non-Null Count  Dtype  \n",
      "---  ------  --------------  -----  \n",
      " 0   Date    1176 non-null   object \n",
      " 1   BTC     1176 non-null   float64\n",
      " 2   ETH     1176 non-null   float64\n",
      " 3   USDT    1176 non-null   float64\n",
      " 4   BNB     1176 non-null   float64\n",
      " 5   USDC    1176 non-null   float64\n",
      " 6   XRP     1176 non-null   float64\n",
      " 7   HEX     1176 non-null   float64\n",
      "dtypes: float64(7), object(1)\n",
      "memory usage: 73.6+ KB\n"
     ]
    }
   ],
   "source": [
    "df.info()"
   ]
  },
  {
   "cell_type": "code",
   "execution_count": 11,
   "metadata": {},
   "outputs": [
    {
     "data": {
      "text/plain": [
       "datetime.date(2018, 3, 8)"
      ]
     },
     "execution_count": 11,
     "metadata": {},
     "output_type": "execute_result"
    }
   ],
   "source": [
    "import datetime\n",
    "\n",
    "today = datetime.date.today()\n",
    "yesterday = today - datetime.timedelta(days=1)\n",
    "yesterday_5yearsback = yesterday - datetime.timedelta(days=365*5)\n",
    "\n",
    "yesterday_5yearsback"
   ]
  }
 ],
 "metadata": {
  "kernelspec": {
   "display_name": "crypto",
   "language": "python",
   "name": "python3"
  },
  "language_info": {
   "codemirror_mode": {
    "name": "ipython",
    "version": 3
   },
   "file_extension": ".py",
   "mimetype": "text/x-python",
   "name": "python",
   "nbconvert_exporter": "python",
   "pygments_lexer": "ipython3",
   "version": "3.10.9"
  },
  "orig_nbformat": 4
 },
 "nbformat": 4,
 "nbformat_minor": 2
}
